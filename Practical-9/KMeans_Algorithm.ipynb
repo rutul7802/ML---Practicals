{
  "nbformat": 4,
  "nbformat_minor": 0,
  "metadata": {
    "colab": {
      "name": "KMeans_Algorithm.ipynb",
      "provenance": []
    },
    "kernelspec": {
      "name": "python3",
      "display_name": "Python 3"
    },
    "language_info": {
      "name": "python"
    }
  },
  "cells": [
    {
      "cell_type": "markdown",
      "metadata": {
        "id": "eWUEUikc6cNk"
      },
      "source": [
        "# **Mall_Customer Dataset**"
      ]
    },
    {
      "cell_type": "markdown",
      "metadata": {
        "id": "qsrQpDBzzb8R"
      },
      "source": [
        "## **Importing All Necessary Library**\n"
      ]
    },
    {
      "cell_type": "markdown",
      "metadata": {
        "id": "UsuEpvWO5lQz"
      },
      "source": [
        "**1. Data Processing**"
      ]
    },
    {
      "cell_type": "code",
      "metadata": {
        "id": "o6OY1PXdzpQJ"
      },
      "source": [
        "import numpy as np\n",
        "import pandas as pd\n",
        "import matplotlib.pyplot as plt"
      ],
      "execution_count": 16,
      "outputs": []
    },
    {
      "cell_type": "markdown",
      "metadata": {
        "id": "AiGxgg4yz0c2"
      },
      "source": [
        "### **Loading the Given Dataset**"
      ]
    },
    {
      "cell_type": "code",
      "metadata": {
        "colab": {
          "base_uri": "https://localhost:8080/"
        },
        "id": "Q2r9x1NXz-Rb",
        "outputId": "8bd72a96-defa-4f8e-c250-4f023540cba5"
      },
      "source": [
        "data = pd.read_csv(\"Mall_Customers.csv\")\n",
        "print(data)"
      ],
      "execution_count": 18,
      "outputs": [
        {
          "output_type": "stream",
          "text": [
            "     CustomerID  Gender  Age  Annual Income (k$)  Spending Score (1-100)\n",
            "0             1    Male   19                  15                      39\n",
            "1             2    Male   21                  15                      81\n",
            "2             3  Female   20                  16                       6\n",
            "3             4  Female   23                  16                      77\n",
            "4             5  Female   31                  17                      40\n",
            "..          ...     ...  ...                 ...                     ...\n",
            "195         196  Female   35                 120                      79\n",
            "196         197  Female   45                 126                      28\n",
            "197         198    Male   32                 126                      74\n",
            "198         199    Male   32                 137                      18\n",
            "199         200    Male   30                 137                      83\n",
            "\n",
            "[200 rows x 5 columns]\n"
          ],
          "name": "stdout"
        }
      ]
    },
    {
      "cell_type": "code",
      "metadata": {
        "id": "sm9F2oZM4ucE"
      },
      "source": [
        "X=data.iloc[:, [3,4]].values"
      ],
      "execution_count": 21,
      "outputs": []
    },
    {
      "cell_type": "markdown",
      "metadata": {
        "id": "yswi68IE49aT"
      },
      "source": [
        "**2.using the elbow method to find optimal number of clusters**"
      ]
    },
    {
      "cell_type": "code",
      "metadata": {
        "id": "AZXPUAOL5CXM"
      },
      "source": [
        "# import kMean from sklean\n",
        "from sklearn.cluster import KMeans"
      ],
      "execution_count": 22,
      "outputs": []
    },
    {
      "cell_type": "code",
      "metadata": {
        "colab": {
          "base_uri": "https://localhost:8080/",
          "height": 312
        },
        "id": "yyaG1QEx5LHy",
        "outputId": "deedda3d-8d2d-4a56-a63a-5474da98202b"
      },
      "source": [
        "# let's plot elbow method graph\n",
        "wcss = []\n",
        "for i in range(1,11):\n",
        "    kmeans=KMeans(n_clusters= i, init='k-means++', max_iter=300, n_init=10, random_state=0)\n",
        "    kmeans.fit(X)\n",
        "    wcss.append(kmeans.inertia_)\n",
        "plt.plot(range(1,11),wcss)\n",
        "plt.title('The Elbow method')\n",
        "plt.xlabel('Number of Cluster')\n",
        "plt.ylabel('wcss')\n",
        "plt.show"
      ],
      "execution_count": 23,
      "outputs": [
        {
          "output_type": "execute_result",
          "data": {
            "text/plain": [
              "<function matplotlib.pyplot.show>"
            ]
          },
          "metadata": {
            "tags": []
          },
          "execution_count": 23
        },
        {
          "output_type": "display_data",
          "data": {
            "image/png": "[encoded data removed]",
            "text/plain": [
              "<Figure size 432x288 with 1 Axes>"
            ]
          },
          "metadata": {
            "tags": [],
            "needs_background": "light"
          }
        }
      ]
    },
    {
      "cell_type": "markdown",
      "metadata": {
        "id": "54112Zfn52F-"
      },
      "source": [
        "**3. Applying kMeans to the mall dataset and Visualising the Clusters**"
      ]
    },
    {
      "cell_type": "code",
      "metadata": {
        "id": "oS3LXi3g55uu"
      },
      "source": [
        "# so applying take five cluster on the basis of elbow method\n",
        "kmeans = KMeans(n_clusters= 5, init='k-means++', max_iter=300, n_init=10, random_state=0)\n",
        "y_kmeans = kmeans.fit_predict(X)"
      ],
      "execution_count": 24,
      "outputs": []
    },
    {
      "cell_type": "code",
      "metadata": {
        "id": "tzA7ISZe6Fcq"
      },
      "source": [
        "# predict the cluster\n",
        "y_kmeans = kmeans.fit_predict(X)"
      ],
      "execution_count": 25,
      "outputs": []
    },
    {
      "cell_type": "code",
      "metadata": {
        "colab": {
          "base_uri": "https://localhost:8080/",
          "height": 295
        },
        "id": "LQuKpRuX6KzT",
        "outputId": "1e808732-8d99-4c5b-a3eb-aac225fb9c05"
      },
      "source": [
        "# Visulising the five Cluster\n",
        "plt.scatter(X[y_kmeans == 0, 0], X[y_kmeans == 0, 1], s=100, c='red', label = 'Careful')\n",
        "plt.scatter(X[y_kmeans == 1, 0], X[y_kmeans == 1, 1], s=100, c='blue', label = 'Standard')\n",
        "plt.scatter(X[y_kmeans == 2, 0], X[y_kmeans == 2, 1], s=100, c='green', label = 'Target')\n",
        "plt.scatter(X[y_kmeans == 3, 0], X[y_kmeans == 3, 1], s=100, c='cyan', label = 'Careless')\n",
        "plt.scatter(X[y_kmeans == 4, 0], X[y_kmeans == 4, 1], s=100, c='magenta', label = 'Sensible')\n",
        "# apply centroid for all cluster\n",
        "plt.scatter(kmeans.cluster_centers_[:, 0] , kmeans.cluster_centers_[:, 1] , s=300, c='yellow', label = 'Centroids')\n",
        "plt.title('Cluster of Client')\n",
        "plt.xlabel('Annual income (k$)')\n",
        "plt.ylabel('Spending Score(1-100)')\n",
        "plt.legend()\n",
        "plt.show()"
      ],
      "execution_count": 26,
      "outputs": [
        {
          "output_type": "display_data",
          "data": {
            "image/png": "[encoded data removed]",
            "text/plain": [
              "<Figure size 432x288 with 1 Axes>"
            ]
          },
          "metadata": {
            "tags": [],
            "needs_background": "light"
          }
        }
      ]
    }
  ]
}