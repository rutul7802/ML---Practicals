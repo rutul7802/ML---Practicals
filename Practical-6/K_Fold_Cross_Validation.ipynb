{
  "nbformat": 4,
  "nbformat_minor": 0,
  "metadata": {
    "colab": {
      "name": "K-Fold Cross Validation.ipynb",
      "provenance": []
    },
    "kernelspec": {
      "name": "python3",
      "display_name": "Python 3"
    },
    "language_info": {
      "name": "python"
    }
  },
  "cells": [
    {
      "cell_type": "markdown",
      "metadata": {
        "id": "Edd6ugfMdBgZ"
      },
      "source": [
        "## **K-Fold Cross Validation**"
      ]
    },
    {
      "cell_type": "markdown",
      "metadata": {
        "id": "hmn-ANUldLJJ"
      },
      "source": [
        "**Importing Libraries**"
      ]
    },
    {
      "cell_type": "code",
      "metadata": {
        "id": "mGzAV47OdRYe"
      },
      "source": [
        "from sklearn.datasets import load_digits\n",
        "from sklearn.linear_model import LogisticRegression\n",
        "from sklearn.svm import SVC\n",
        "from sklearn.neighbors import KNeighborsClassifier\n",
        "from sklearn.model_selection import train_test_split\n",
        "from sklearn.model_selection import KFold\n",
        "from sklearn.model_selection import StratifiedKFold\n",
        "from sklearn.model_selection import cross_val_score\n",
        "d = load_digits()"
      ],
      "execution_count": 1,
      "outputs": []
    },
    {
      "cell_type": "markdown",
      "metadata": {
        "id": "jaT4EA-Kdcqa"
      },
      "source": [
        "**Dividing dataset into train and test set**"
      ]
    },
    {
      "cell_type": "code",
      "metadata": {
        "id": "B9HOBSi6dlnO"
      },
      "source": [
        "X_train, X_test, y_train, y_test = train_test_split(d.data, d.target, test_size=0.2)"
      ],
      "execution_count": 2,
      "outputs": []
    },
    {
      "cell_type": "markdown",
      "metadata": {
        "id": "hBqkBExydtS6"
      },
      "source": [
        "**Fitting Logistic Regression**"
      ]
    },
    {
      "cell_type": "code",
      "metadata": {
        "colab": {
          "base_uri": "https://localhost:8080/"
        },
        "id": "EAMSKrD_d09S",
        "outputId": "c0bd9a53-29be-4b22-8526-c378d51b7384"
      },
      "source": [
        "l = LogisticRegression(max_iter=10000)\n",
        "l.fit(X_train, y_train)\n",
        "l.score(X_test, y_test)"
      ],
      "execution_count": 3,
      "outputs": [
        {
          "output_type": "execute_result",
          "data": {
            "text/plain": [
              "0.9583333333333334"
            ]
          },
          "metadata": {
            "tags": []
          },
          "execution_count": 3
        }
      ]
    },
    {
      "cell_type": "markdown",
      "metadata": {
        "id": "8WgsAJyweCZK"
      },
      "source": [
        "**Fitting SVM**"
      ]
    },
    {
      "cell_type": "code",
      "metadata": {
        "colab": {
          "base_uri": "https://localhost:8080/"
        },
        "id": "j1RzthNZeGeB",
        "outputId": "163c2098-8d87-4ae5-964b-44d8c4e14269"
      },
      "source": [
        "s =SVC()\n",
        "s.fit(X_train, y_train)\n",
        "s.score(X_test, y_test)"
      ],
      "execution_count": 4,
      "outputs": [
        {
          "output_type": "execute_result",
          "data": {
            "text/plain": [
              "0.9805555555555555"
            ]
          },
          "metadata": {
            "tags": []
          },
          "execution_count": 4
        }
      ]
    },
    {
      "cell_type": "markdown",
      "metadata": {
        "id": "NCeXkq1ueMXk"
      },
      "source": [
        "**Fitting KNN**"
      ]
    },
    {
      "cell_type": "code",
      "metadata": {
        "colab": {
          "base_uri": "https://localhost:8080/"
        },
        "id": "Jo0R61PKeR2j",
        "outputId": "bed06eab-18be-4c0f-cc67-ebeee2615eee"
      },
      "source": [
        "k = KNeighborsClassifier()\n",
        "k.fit(X_train, y_train)\n",
        "k.score(X_test, y_test)"
      ],
      "execution_count": 5,
      "outputs": [
        {
          "output_type": "execute_result",
          "data": {
            "text/plain": [
              "0.9805555555555555"
            ]
          },
          "metadata": {
            "tags": []
          },
          "execution_count": 5
        }
      ]
    },
    {
      "cell_type": "markdown",
      "metadata": {
        "id": "OGbptx0Meazp"
      },
      "source": [
        "**K-Fold Validation**"
      ]
    },
    {
      "cell_type": "code",
      "metadata": {
        "colab": {
          "base_uri": "https://localhost:8080/"
        },
        "id": "E6d6nJO_egig",
        "outputId": "b55f8856-36cf-4f0a-8200-18d11b42d05c"
      },
      "source": [
        "kf = KFold(n_splits=3)\n",
        "kf"
      ],
      "execution_count": 6,
      "outputs": [
        {
          "output_type": "execute_result",
          "data": {
            "text/plain": [
              "KFold(n_splits=3, random_state=None, shuffle=False)"
            ]
          },
          "metadata": {
            "tags": []
          },
          "execution_count": 6
        }
      ]
    },
    {
      "cell_type": "markdown",
      "metadata": {
        "id": "JGZBfLMielDG"
      },
      "source": [
        "**Stratified KFold Validation**"
      ]
    },
    {
      "cell_type": "code",
      "metadata": {
        "colab": {
          "base_uri": "https://localhost:8080/"
        },
        "id": "h3Rd3qDbewez",
        "outputId": "6e673fb8-b40d-4021-e70c-898da21c9a01"
      },
      "source": [
        "skf = StratifiedKFold(n_splits=3)\n",
        "skf"
      ],
      "execution_count": 7,
      "outputs": [
        {
          "output_type": "execute_result",
          "data": {
            "text/plain": [
              "StratifiedKFold(n_splits=3, random_state=None, shuffle=False)"
            ]
          },
          "metadata": {
            "tags": []
          },
          "execution_count": 7
        }
      ]
    },
    {
      "cell_type": "markdown",
      "metadata": {
        "id": "2OcXvvlxe1Uy"
      },
      "source": [
        "**Fitting data into different Modules and Evaluating Scores**"
      ]
    },
    {
      "cell_type": "code",
      "metadata": {
        "colab": {
          "base_uri": "https://localhost:8080/"
        },
        "id": "rcroRkMDfBiJ",
        "outputId": "ae7badb2-e887-42c4-ef61-2a153b9ef696"
      },
      "source": [
        "lr, svc, knn= [], [], []\n",
        "for train_index, test_index in skf.split(d.data, d.target):\n",
        "    X_train, X_test, y_train, y_test = d.data[train_index],d.data[test_index],d.target[train_index],d.target[test_index]\n",
        "    l.fit(X_train, y_train)\n",
        "    lr.append(l.score(X_test, y_test))\n",
        "    s.fit(X_train, y_train)\n",
        "    svc.append(s.score(X_test, y_test))\n",
        "    k.fit(X_train, y_train)\n",
        "    knn.append(k.score(X_test, y_test))\n",
        "print(lr)\n",
        "print(svc)\n",
        "print(knn)"
      ],
      "execution_count": 9,
      "outputs": [
        {
          "output_type": "stream",
          "text": [
            "[0.9248747913188647, 0.9382303839732888, 0.9232053422370617]\n",
            "[0.9649415692821369, 0.9799666110183639, 0.9649415692821369]\n",
            "[0.9582637729549248, 0.9632721202003339, 0.9666110183639399]\n"
          ],
          "name": "stdout"
        }
      ]
    },
    {
      "cell_type": "markdown",
      "metadata": {
        "id": "HInfZqU5fUo6"
      },
      "source": [
        "**Using cross_val_score with Logistic Regression**"
      ]
    },
    {
      "cell_type": "code",
      "metadata": {
        "colab": {
          "base_uri": "https://localhost:8080/"
        },
        "id": "D_byp44tfZQu",
        "outputId": "1cb2f719-bf2b-40c7-aaa6-82280914549f"
      },
      "source": [
        "cross_val_score(LogisticRegression(max_iter=10000),d.data,d.target)"
      ],
      "execution_count": 10,
      "outputs": [
        {
          "output_type": "execute_result",
          "data": {
            "text/plain": [
              "array([0.925     , 0.87222222, 0.93871866, 0.93314763, 0.89693593])"
            ]
          },
          "metadata": {
            "tags": []
          },
          "execution_count": 10
        }
      ]
    },
    {
      "cell_type": "markdown",
      "metadata": {
        "id": "gyPG-U42fwWx"
      },
      "source": [
        "**Using cross_val_score with SVM**"
      ]
    },
    {
      "cell_type": "code",
      "metadata": {
        "colab": {
          "base_uri": "https://localhost:8080/"
        },
        "id": "HPmLToOvfzRF",
        "outputId": "caeac7d4-d167-4a77-e854-7f0ecd413942"
      },
      "source": [
        "cross_val_score(s, d.data, d.target, cv=5)"
      ],
      "execution_count": 11,
      "outputs": [
        {
          "output_type": "execute_result",
          "data": {
            "text/plain": [
              "array([0.96111111, 0.94444444, 0.98328691, 0.98885794, 0.93871866])"
            ]
          },
          "metadata": {
            "tags": []
          },
          "execution_count": 11
        }
      ]
    },
    {
      "cell_type": "markdown",
      "metadata": {
        "id": "u_E0Fn3Qf7JI"
      },
      "source": [
        "**Using cross_val_score with KNN**"
      ]
    },
    {
      "cell_type": "code",
      "metadata": {
        "colab": {
          "base_uri": "https://localhost:8080/"
        },
        "id": "cp4DnHeBgFJu",
        "outputId": "c57336a1-57a3-4406-9f78-f851107d100b"
      },
      "source": [
        "cross_val_score(KNeighborsClassifier(), d.data, d.target)\n"
      ],
      "execution_count": 12,
      "outputs": [
        {
          "output_type": "execute_result",
          "data": {
            "text/plain": [
              "array([0.94722222, 0.95555556, 0.96657382, 0.98050139, 0.9637883 ])"
            ]
          },
          "metadata": {
            "tags": []
          },
          "execution_count": 12
        }
      ]
    }
  ]
}