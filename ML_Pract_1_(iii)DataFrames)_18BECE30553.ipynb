{
  "nbformat": 4,
  "nbformat_minor": 0,
  "metadata": {
    "colab": {
      "name": "ML_Pract-1_(iii)DataFrames)_18BECE30553.ipynb",
      "provenance": [],
      "collapsed_sections": [],
      "authorship_tag": "ABX9TyNQyDLKX+EjGBUMrpf0H2Ie",
      "include_colab_link": true
    },
    "kernelspec": {
      "name": "python3",
      "display_name": "Python 3"
    }
  },
  "cells": [
    {
      "cell_type": "markdown",
      "metadata": {
        "id": "view-in-github",
        "colab_type": "text"
      },
      "source": [
        "<a href=\"https://colab.research.google.com/github/rutul7802/ML---Practicals/blob/ML---Practicals/ML_Pract_1_(iii)DataFrames)_18BECE30553.ipynb\" target=\"_parent\"><img src=\"https://colab.research.google.com/assets/colab-badge.svg\" alt=\"Open In Colab\"/></a>"
      ]
    },
    {
      "cell_type": "code",
      "metadata": {
        "colab": {
          "base_uri": "https://localhost:8080/"
        },
        "id": "Ea0qFiGtF2MG",
        "outputId": "a74cabd1-7716-40d0-e4d9-044b49c04fac"
      },
      "source": [
        "#Creating Dataframe list\r\n",
        "import pandas as pd\r\n",
        "data = [1,2,3,4,5]\r\n",
        "df = pd.DataFrame(data)\r\n",
        "print(df)\r\n",
        "\r\n",
        "\r\n",
        "import pandas as pd\r\n",
        "Lst = [ ['Ram',10],[ 'Raj',21], ['Raman',15], ['Pk',18], ['Meet',19]]\r\n",
        "\r\n",
        "df = pd.DataFrame(Lst, columns =['Name', 'Age'])\r\n",
        "print(df)\r\n"
      ],
      "execution_count": null,
      "outputs": [
        {
          "output_type": "stream",
          "text": [
            "   0\n",
            "0  1\n",
            "1  2\n",
            "2  3\n",
            "3  4\n",
            "4  5\n",
            "    Name  Age\n",
            "0    Ram   10\n",
            "1    Raj   21\n",
            "2  Raman   15\n",
            "3     Pk   18\n",
            "4   Meet   19\n"
          ],
          "name": "stdout"
        }
      ]
    },
    {
      "cell_type": "code",
      "metadata": {
        "colab": {
          "base_uri": "https://localhost:8080/"
        },
        "id": "klnlab_FJ65E",
        "outputId": "38633788-d85f-44e0-f8c0-f7ad9c55a5d5"
      },
      "source": [
        "#Creating dataframes from ndarrays/lists\r\n",
        "import pandas as pd\r\n",
        "data = { 'Name': ['Geet','Jeet','Preet','Jagjeet'], 'Salary' : [20000,30000,40000,50000]} \r\n",
        "\r\n",
        "df = pd.DataFrame(data)\r\n",
        "print(df)\r\n",
        "\r\n",
        "#Location of specific rows\r\n",
        "print(df.loc[0])\r\n",
        "print(df.loc[[0,1]])"
      ],
      "execution_count": null,
      "outputs": [
        {
          "output_type": "stream",
          "text": [
            "      Name  Salary\n",
            "0     Geet   20000\n",
            "1     Jeet   30000\n",
            "2    Preet   40000\n",
            "3  Jagjeet   50000\n",
            "Name       Geet\n",
            "Salary    20000\n",
            "Name: 0, dtype: object\n",
            "   Name  Salary\n",
            "0  Geet   20000\n",
            "1  Jeet   30000\n"
          ],
          "name": "stdout"
        }
      ]
    },
    {
      "cell_type": "code",
      "metadata": {
        "colab": {
          "base_uri": "https://localhost:8080/"
        },
        "id": "meWLm-o_dwUC",
        "outputId": "c6c11e44-e540-4388-80d3-c3b7991b18ec"
      },
      "source": [
        "#Giving Name of Index\r\n",
        "import pandas as pd\r\n",
        "data = { 'Name': [ \"Rutul\", \"Raj\", \"Ram\"] ,'Salary': [3000000,40000,340000]}\r\n",
        "\r\n",
        "df= pd.DataFrame(data, index = [1,2,3])\r\n",
        "print(df)\r\n",
        "print(df.loc[[1,2]])"
      ],
      "execution_count": null,
      "outputs": [
        {
          "output_type": "stream",
          "text": [
            "    Name   Salary\n",
            "1  Rutul  3000000\n",
            "2    Raj    40000\n",
            "3    Ram   340000\n",
            "    Name   Salary\n",
            "1  Rutul  3000000\n",
            "2    Raj    40000\n"
          ],
          "name": "stdout"
        }
      ]
    },
    {
      "cell_type": "code",
      "metadata": {
        "colab": {
          "base_uri": "https://localhost:8080/"
        },
        "id": "0HNaAOt2hwFw",
        "outputId": "25b38c3e-9ee9-4cb4-f10e-522b622d95ff"
      },
      "source": [
        "#Select particular Columns\r\n",
        "import pandas as pd\r\n",
        "data = { 'Name': [\"Faiz\",\"Ramu\",\"Ganga\",\"Manoj\"]\r\n",
        "         ,'Age': [19,20,21,20]\r\n",
        "          ,'Address': ['KAnpur','RAjkot','Delhi','Mumbai']\r\n",
        "          ,'Qualification' : ['Msc','Bsc','Btech','Bcom'] }\r\n",
        "\r\n",
        "df = pd.DataFrame(data, index = [1,2,3,4])\r\n",
        "print(df)\r\n",
        "print(df[['Name' , 'Address']])\r\n"
      ],
      "execution_count": null,
      "outputs": [
        {
          "output_type": "stream",
          "text": [
            "    Name  Age Address Qualification\n",
            "1   Faiz   19  KAnpur           Msc\n",
            "2   Ramu   20  RAjkot           Bsc\n",
            "3  Ganga   21   Delhi         Btech\n",
            "4  Manoj   20  Mumbai          Bcom\n",
            "    Name Address\n",
            "1   Faiz  KAnpur\n",
            "2   Ramu  RAjkot\n",
            "3  Ganga   Delhi\n",
            "4  Manoj  Mumbai\n"
          ],
          "name": "stdout"
        }
      ]
    },
    {
      "cell_type": "code",
      "metadata": {
        "colab": {
          "base_uri": "https://localhost:8080/"
        },
        "id": "4i1O9ONhauMI",
        "outputId": "d6660e54-908c-4915-9eab-9dc667b96ccf"
      },
      "source": [
        "#Create Dataframe from dictionary\r\n",
        "import pandas as pd\r\n",
        "data = [ { 'a': 1, 'b' : 2},{ 'a': 5, 'b':6 ,'c': 7}]\r\n",
        "df = pd.DataFrame(data)\r\n",
        "print(df)\r\n",
        "\r\n",
        "#Create Dataframe by indexing rows in dictionary\r\n",
        "import pandas as pd\r\n",
        "data = [ { 'a': 1, 'b': 2} , {'a':8 , 'b':9 , 'c':10}]\r\n",
        "df = pd.DataFrame(data, index= ['First', 'Second'])\r\n",
        "print(df)"
      ],
      "execution_count": null,
      "outputs": [
        {
          "output_type": "stream",
          "text": [
            "   a  b    c\n",
            "0  1  2  NaN\n",
            "1  5  6  7.0\n",
            "        a  b     c\n",
            "First   1  2   NaN\n",
            "Second  8  9  10.0\n"
          ],
          "name": "stdout"
        }
      ]
    },
    {
      "cell_type": "code",
      "metadata": {
        "id": "vUBwBuEGvTOz",
        "colab": {
          "base_uri": "https://localhost:8080/"
        },
        "outputId": "502a42a9-9865-4cd9-e7a1-51eaeeb47584"
      },
      "source": [
        "#Create a Dataframe from Dictionaries of series\r\n",
        "import pandas as pd\r\n",
        "data = {   'First': pd.Series([1,2,3], index=['a','b','c']),\r\n",
        "            'Second': pd.Series([1,2,3,4], index=['a','b','c','d'])}\r\n",
        "df = pd.DataFrame(data)\r\n",
        "print(df)\r\n",
        "\r\n",
        "#Particular Column Selection \r\n",
        "print(df ['Second'])\r\n",
        "\r\n",
        "#Adding a Column \r\n",
        "print(\"******Adding NEW Column******\")\r\n",
        "df['Third'] =pd.Series([10,20,30,40], index=['a','b','c','d'])\r\n",
        "print(df)\r\n",
        "\r\n",
        "#Deleting a Column Using del and pop\r\n",
        "print(\"*****Deleting particular Column*****\")\r\n",
        "del df['Third']\r\n",
        "print(df)\r\n",
        "print(\"********* Using POP function******\")\r\n",
        "df.pop('Second')\r\n",
        "print(df)\r\n"
      ],
      "execution_count": null,
      "outputs": [
        {
          "output_type": "stream",
          "text": [
            "   First  Second\n",
            "a    1.0       1\n",
            "b    2.0       2\n",
            "c    3.0       3\n",
            "d    NaN       4\n",
            "a    1\n",
            "b    2\n",
            "c    3\n",
            "d    4\n",
            "Name: Second, dtype: int64\n",
            "******Adding NEW Column******\n",
            "   First  Second  Third\n",
            "a    1.0       1     10\n",
            "b    2.0       2     20\n",
            "c    3.0       3     30\n",
            "d    NaN       4     40\n",
            "*****Deleting particular Column*****\n",
            "   First  Second\n",
            "a    1.0       1\n",
            "b    2.0       2\n",
            "c    3.0       3\n",
            "d    NaN       4\n",
            "********* Using POP function******\n",
            "   First\n",
            "a    1.0\n",
            "b    2.0\n",
            "c    3.0\n",
            "d    NaN\n"
          ],
          "name": "stdout"
        }
      ]
    },
    {
      "cell_type": "code",
      "metadata": {
        "colab": {
          "base_uri": "https://localhost:8080/"
        },
        "id": "UFN91Td6RVSC",
        "outputId": "10951b0c-0d38-4a05-c790-19ff0e42fc4d"
      },
      "source": [
        "#Selecting , Adding and Deleting Rows\r\n",
        "import pandas as pd\r\n",
        "data = { 'First': pd.Series([1,2,3], index=['a','b','c']),'Second': pd.Series([1,2,3,4], index=['a','b','c','d'])}\r\n",
        "df =pd.DataFrame(data)\r\n",
        "print(df)\r\n",
        "print(\"********Selecting By USing Loc Function*******\")\r\n",
        "print(df.loc['b'])\r\n",
        "print(df.loc['d'])\r\n",
        "print(\"**********Selecting By Passing Loction of Integer, As it Returns Next Rows to it********\")\r\n",
        "print(df.iloc[2])\r\n",
        "print(df.iloc[3])\r\n",
        "\r\n",
        "#Selecting Multiple Rows\r\n",
        "print(\"******Selecting Multiple Rows Using (:) operator ,As it returns next two rows ********\")\r\n",
        "print(df[2:4])\r\n",
        "\r\n",
        "#Addition of New Rows\r\n",
        "print(\"*******Adding New Rows Using Append function*****\")\r\n",
        "df1 = pd.DataFrame([[1,2],[3,4]], columns=['a','b'])\r\n",
        "df2 = pd.DataFrame([[5,6],[7,8]], columns=['a','b'])\r\n",
        "df1 = df1.append(df2)\r\n",
        "print(df1)\r\n",
        "\r\n",
        "#Deletion Of Rows\r\n",
        "print(\"********Deleting Rows Using drop Function, As it delete rows with particular label*********\")\r\n",
        "df1 = df1.drop(0)\r\n",
        "print(df1)\r\n"
      ],
      "execution_count": null,
      "outputs": [
        {
          "output_type": "stream",
          "text": [
            "   First  Second\n",
            "a    1.0       1\n",
            "b    2.0       2\n",
            "c    3.0       3\n",
            "d    NaN       4\n",
            "********Selecting By USing Loc Function*******\n",
            "First     2.0\n",
            "Second    2.0\n",
            "Name: b, dtype: float64\n",
            "First     NaN\n",
            "Second    4.0\n",
            "Name: d, dtype: float64\n",
            "**********Selecting By Passing Loction of Integer, As it Returns Next Rows to it********\n",
            "First     3.0\n",
            "Second    3.0\n",
            "Name: c, dtype: float64\n",
            "First     NaN\n",
            "Second    4.0\n",
            "Name: d, dtype: float64\n",
            "******Selecting Multiple Rows Using (:) operator ,As it returns next two rows ********\n",
            "   First  Second\n",
            "c    3.0       3\n",
            "d    NaN       4\n",
            "*******Adding New Rows Using Append function*****\n",
            "   a  b\n",
            "0  1  2\n",
            "1  3  4\n",
            "0  5  6\n",
            "1  7  8\n",
            "********Deleting Rows Using drop Function, As it delete rows with particular label*********\n",
            "   a  b\n",
            "1  3  4\n",
            "1  7  8\n"
          ],
          "name": "stdout"
        }
      ]
    }
  ]
}