{
  "nbformat": 4,
  "nbformat_minor": 0,
  "metadata": {
    "colab": {
      "name": "ML_Pract-1_(ii)Dictionaries)_18BECE30553.ipynb",
      "provenance": [],
      "collapsed_sections": [],
      "authorship_tag": "ABX9TyOnpdJwkz7wdFWPvhe2E0Wa",
      "include_colab_link": true
    },
    "kernelspec": {
      "name": "python3",
      "display_name": "Python 3"
    }
  },
  "cells": [
    {
      "cell_type": "markdown",
      "metadata": {
        "id": "view-in-github",
        "colab_type": "text"
      },
      "source": [
        "<a href=\"https://colab.research.google.com/github/rutul7802/ML_Prac_1-i-List-_18BECE30553.ipynb/blob/main/ML_Pract_1_(ii)Dictionaries)_18BECE30553.ipynb\" target=\"_parent\"><img src=\"https://colab.research.google.com/assets/colab-badge.svg\" alt=\"Open In Colab\"/></a>"
      ]
    },
    {
      "cell_type": "code",
      "metadata": {
        "colab": {
          "base_uri": "https://localhost:8080/"
        },
        "id": "IgR5-v_3E3qI",
        "outputId": "4cd119c0-6715-446a-a4c2-516e075c9b38"
      },
      "source": [
        "#Create a New Dictionary\r\n",
        "newdict =  {\r\n",
        "    \"Name\" : \"Rakesh\",\r\n",
        "    \"Enrollment No\" : 2010230523,\r\n",
        "    \"Class\" : \"B\",\r\n",
        "    \"Phone No\" : 98373783990\r\n",
        "}\r\n",
        "print(newdict)"
      ],
      "execution_count": null,
      "outputs": [
        {
          "output_type": "stream",
          "text": [
            "{'Name': 'Rakesh', 'Enrollment No': 2010230523, 'Class': 'B', 'Phone No': 98373783990}\n"
          ],
          "name": "stdout"
        }
      ]
    },
    {
      "cell_type": "code",
      "metadata": {
        "colab": {
          "base_uri": "https://localhost:8080/"
        },
        "id": "jA53bvdaOOVB",
        "outputId": "dca82b19-fdc0-4b70-a861-1340d909b5b1"
      },
      "source": [
        "print(newdict['Class'])"
      ],
      "execution_count": null,
      "outputs": [
        {
          "output_type": "stream",
          "text": [
            "B\n"
          ],
          "name": "stdout"
        }
      ]
    },
    {
      "cell_type": "code",
      "metadata": {
        "colab": {
          "base_uri": "https://localhost:8080/"
        },
        "id": "Uk0hJ1XROl41",
        "outputId": "e0d04353-3d1b-4a6a-bab2-ae02616aa677"
      },
      "source": [
        "print(len('newdict'))"
      ],
      "execution_count": null,
      "outputs": [
        {
          "output_type": "stream",
          "text": [
            "7\n"
          ],
          "name": "stdout"
        }
      ]
    },
    {
      "cell_type": "code",
      "metadata": {
        "colab": {
          "base_uri": "https://localhost:8080/"
        },
        "id": "_lHWjlndQloA",
        "outputId": "b48e91fd-75b2-4dc3-ca6b-1022eb4de30f"
      },
      "source": [
        "print(newdict)"
      ],
      "execution_count": null,
      "outputs": [
        {
          "output_type": "stream",
          "text": [
            "{'Semester : 5'}\n"
          ],
          "name": "stdout"
        }
      ]
    },
    {
      "cell_type": "code",
      "metadata": {
        "colab": {
          "base_uri": "https://localhost:8080/"
        },
        "id": "XPecvkkl1vwL",
        "outputId": "f0b5f8a5-92ab-4f4c-dd87-2613c3d26707"
      },
      "source": [
        "#Nested Dictionary\r\n",
        "Dict = { 1: 'Hi', 2: 'My', 3: 'Name',4:{ 'A': \"Is\",'B':\"Rutul\"}}\r\n",
        "print(Dict)\r\n",
        "print(Dict[4]['B'])\r\n",
        "\r\n",
        "#deleting in Nested Dictionary\r\n",
        "del Dict[4]['A']\r\n",
        "print(Dict)"
      ],
      "execution_count": null,
      "outputs": [
        {
          "output_type": "stream",
          "text": [
            "{1: 'Hi', 2: 'My', 3: 'Name', 4: {'A': 'Is', 'B': 'Rutul'}}\n",
            "Rutul\n",
            "{1: 'Hi', 2: 'My', 3: 'Name', 4: {'B': 'Rutul'}}\n"
          ],
          "name": "stdout"
        }
      ]
    },
    {
      "cell_type": "code",
      "metadata": {
        "colab": {
          "base_uri": "https://localhost:8080/"
        },
        "id": "PDn8EYn_68NU",
        "outputId": "ba4dc2bd-fe27-461a-d7ee-a945c22c8de1"
      },
      "source": [
        "#deleting an item using pop() Method\r\n",
        "Dict1= { 'Name': \"gharth\" , 'Age': 31 ,'Salary': 56000 }\r\n",
        "print(Dict1)\r\n",
        "pop_element = Dict1.pop('Age')\r\n",
        "print(\"Dictionary after poping element:\" + str(Dict1))\r\n",
        "print(\"The Poping element is\" + str(pop_element))\r\n",
        "\r\n",
        "#deleting an arbitrary pair from dictionary\r\n",
        "pop_ele = Dict1.popitem()\r\n",
        "print(\"Dictionary after deletion:\" + str(Dict1))\r\n",
        "print(\"The arbitary pair is:\" + str(pop_ele))\r\n",
        "\r\n",
        "#clear all the elements from the dictionary\r\n",
        "print(Dict1)\r\n",
        "Dict1.clear()\r\n",
        "print(\"Deleting entire Dictionary:\")\r\n",
        "print(Dict1)"
      ],
      "execution_count": null,
      "outputs": [
        {
          "output_type": "stream",
          "text": [
            "{'Name': 'gharth', 'Age': 31, 'Salary': 56000}\n",
            "Dictionary after poping element:{'Name': 'gharth', 'Salary': 56000}\n",
            "The Poping element is31\n",
            "Dictionary after deletion:{'Name': 'gharth'}\n",
            "The arbitary pair is:('Salary', 56000)\n",
            "{'Name': 'gharth'}\n",
            "Deleting entire Dictionary:\n",
            "{}\n"
          ],
          "name": "stdout"
        }
      ]
    }
  ]
}