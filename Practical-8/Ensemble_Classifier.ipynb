{
  "nbformat": 4,
  "nbformat_minor": 0,
  "metadata": {
    "colab": {
      "name": "Ensemble_Classifier.ipynb",
      "provenance": []
    },
    "kernelspec": {
      "name": "python3",
      "display_name": "Python 3"
    },
    "language_info": {
      "name": "python"
    }
  },
  "cells": [
    {
      "cell_type": "markdown",
      "metadata": {
        "id": "jNak8zL0uYJh"
      },
      "source": [
        "## **Implement random forest on any dataset.**"
      ]
    },
    {
      "cell_type": "markdown",
      "metadata": {
        "id": "hvPo5gwUuj5n"
      },
      "source": [
        "**Importing necessary libraries**"
      ]
    },
    {
      "cell_type": "code",
      "metadata": {
        "id": "d_YfImo5uriR"
      },
      "source": [
        "import numpy as np\n",
        "import matplotlib.pyplot as mtp  \n",
        "import pandas as pd  \n",
        "from sklearn.model_selection import train_test_split  \n",
        "from sklearn.ensemble import RandomForestClassifier  \n",
        "from sklearn.metrics import confusion_matrix,ConfusionMatrixDisplay\n",
        "from sklearn.svm import SVC\n"
      ],
      "execution_count": 27,
      "outputs": []
    },
    {
      "cell_type": "markdown",
      "metadata": {
        "id": "Ev3Ozyfzu1K1"
      },
      "source": [
        "**Loading the Given Dataset**"
      ]
    },
    {
      "cell_type": "code",
      "metadata": {
        "id": "raeg0Z45u7Ta"
      },
      "source": [
        "data= pd.read_csv('insurance_data.csv')"
      ],
      "execution_count": 28,
      "outputs": []
    },
    {
      "cell_type": "code",
      "metadata": {
        "colab": {
          "base_uri": "https://localhost:8080/"
        },
        "id": "lsAZhUVSvGkQ",
        "outputId": "ba6ef3fe-7c96-44ca-fd49-15f5c88568ba"
      },
      "source": [
        "print(data)"
      ],
      "execution_count": 29,
      "outputs": [
        {
          "output_type": "stream",
          "text": [
            "    age  bought_insurance\n",
            "0    22                 0\n",
            "1    25                 0\n",
            "2    47                 1\n",
            "3    52                 0\n",
            "4    46                 1\n",
            "5    56                 1\n",
            "6    55                 0\n",
            "7    60                 1\n",
            "8    62                 1\n",
            "9    61                 1\n",
            "10   18                 0\n",
            "11   28                 0\n",
            "12   27                 0\n",
            "13   29                 0\n",
            "14   49                 1\n",
            "15   55                 1\n",
            "16   25                 1\n",
            "17   58                 1\n",
            "18   19                 0\n",
            "19   18                 0\n",
            "20   21                 0\n",
            "21   26                 0\n",
            "22   40                 1\n",
            "23   45                 1\n",
            "24   50                 1\n",
            "25   54                 1\n",
            "26   23                 0\n"
          ],
          "name": "stdout"
        }
      ]
    },
    {
      "cell_type": "markdown",
      "metadata": {
        "id": "-9MphJY5vR2-"
      },
      "source": [
        "**Extracting Independent and Dependent variable**"
      ]
    },
    {
      "cell_type": "code",
      "metadata": {
        "colab": {
          "base_uri": "https://localhost:8080/"
        },
        "id": "E9KnuT9-vatt",
        "outputId": "deafc8f7-2614-48e4-aa73-e33e35901573"
      },
      "source": [
        "x= data.iloc[:, [0]].values  \n",
        "y= data.iloc[:, 1].values\n",
        "print(x)\n",
        "print(y)"
      ],
      "execution_count": 30,
      "outputs": [
        {
          "output_type": "stream",
          "text": [
            "[[22]\n",
            " [25]\n",
            " [47]\n",
            " [52]\n",
            " [46]\n",
            " [56]\n",
            " [55]\n",
            " [60]\n",
            " [62]\n",
            " [61]\n",
            " [18]\n",
            " [28]\n",
            " [27]\n",
            " [29]\n",
            " [49]\n",
            " [55]\n",
            " [25]\n",
            " [58]\n",
            " [19]\n",
            " [18]\n",
            " [21]\n",
            " [26]\n",
            " [40]\n",
            " [45]\n",
            " [50]\n",
            " [54]\n",
            " [23]]\n",
            "[0 0 1 0 1 1 0 1 1 1 0 0 0 0 1 1 1 1 0 0 0 0 1 1 1 1 0]\n"
          ],
          "name": "stdout"
        }
      ]
    },
    {
      "cell_type": "markdown",
      "metadata": {
        "id": "JlPPbrnfvjuo"
      },
      "source": [
        "**Splitting dataset into training and Teast set**"
      ]
    },
    {
      "cell_type": "code",
      "metadata": {
        "colab": {
          "base_uri": "https://localhost:8080/"
        },
        "id": "SSEtXAqEvqV8",
        "outputId": "6fdfa2ef-3fe6-4cab-a44e-54e6849cb4b0"
      },
      "source": [
        "x_train, x_test, y_train, y_test= train_test_split(x, y, test_size= 0.3)  \n",
        "print(x_train)\n",
        "print(y_train)\n",
        "print(x_test)\n",
        "print(y_test)"
      ],
      "execution_count": 31,
      "outputs": [
        {
          "output_type": "stream",
          "text": [
            "[[55]\n",
            " [47]\n",
            " [18]\n",
            " [45]\n",
            " [29]\n",
            " [19]\n",
            " [18]\n",
            " [25]\n",
            " [28]\n",
            " [26]\n",
            " [23]\n",
            " [49]\n",
            " [61]\n",
            " [56]\n",
            " [52]\n",
            " [21]\n",
            " [22]\n",
            " [58]]\n",
            "[1 1 0 1 0 0 0 1 0 0 0 1 1 1 0 0 0 1]\n",
            "[[62]\n",
            " [55]\n",
            " [25]\n",
            " [50]\n",
            " [60]\n",
            " [27]\n",
            " [40]\n",
            " [46]\n",
            " [54]]\n",
            "[1 0 0 1 1 0 1 1 1]\n"
          ],
          "name": "stdout"
        }
      ]
    },
    {
      "cell_type": "markdown",
      "metadata": {
        "id": "Bn568lcLv082"
      },
      "source": [
        "**Fitting Decision Tree classifier to the training set**"
      ]
    },
    {
      "cell_type": "code",
      "metadata": {
        "colab": {
          "base_uri": "https://localhost:8080/"
        },
        "id": "tDPSagUfv3vx",
        "outputId": "009b34fc-b30c-4698-dce2-b5e366d8dfe3"
      },
      "source": [
        "classifier= RandomForestClassifier(n_estimators= 15, criterion=\"entropy\")  \n",
        "classifier.fit(x_train, y_train)"
      ],
      "execution_count": 32,
      "outputs": [
        {
          "output_type": "execute_result",
          "data": {
            "text/plain": [
              "RandomForestClassifier(bootstrap=True, ccp_alpha=0.0, class_weight=None,\n",
              "                       criterion='entropy', max_depth=None, max_features='auto',\n",
              "                       max_leaf_nodes=None, max_samples=None,\n",
              "                       min_impurity_decrease=0.0, min_impurity_split=None,\n",
              "                       min_samples_leaf=1, min_samples_split=2,\n",
              "                       min_weight_fraction_leaf=0.0, n_estimators=15,\n",
              "                       n_jobs=None, oob_score=False, random_state=None,\n",
              "                       verbose=0, warm_start=False)"
            ]
          },
          "metadata": {
            "tags": []
          },
          "execution_count": 32
        }
      ]
    },
    {
      "cell_type": "markdown",
      "metadata": {
        "id": "DAz542g-v9Hl"
      },
      "source": [
        "**Predicting the Test set Result**"
      ]
    },
    {
      "cell_type": "code",
      "metadata": {
        "colab": {
          "base_uri": "https://localhost:8080/"
        },
        "id": "JlT8J2WNwG1x",
        "outputId": "1cf38ec8-776c-41fb-d982-8c73b779dc35"
      },
      "source": [
        "y_pred= classifier.predict(x_test)  \n",
        "print(y_pred)"
      ],
      "execution_count": 33,
      "outputs": [
        {
          "output_type": "stream",
          "text": [
            "[1 1 1 1 1 0 1 1 1]\n"
          ],
          "name": "stdout"
        }
      ]
    },
    {
      "cell_type": "code",
      "metadata": {
        "colab": {
          "base_uri": "https://localhost:8080/"
        },
        "id": "0wvO9h_fwMQ1",
        "outputId": "d528e560-482e-4c1a-d5a1-5fccc1c1b452"
      },
      "source": [
        "classifier.predict([[40]])"
      ],
      "execution_count": 34,
      "outputs": [
        {
          "output_type": "execute_result",
          "data": {
            "text/plain": [
              "array([1])"
            ]
          },
          "metadata": {
            "tags": []
          },
          "execution_count": 34
        }
      ]
    },
    {
      "cell_type": "markdown",
      "metadata": {
        "id": "k-KFFIpYwR1U"
      },
      "source": [
        "**Creating the Confusion Matrix**"
      ]
    },
    {
      "cell_type": "code",
      "metadata": {
        "colab": {
          "base_uri": "https://localhost:8080/",
          "height": 334
        },
        "id": "yTKhtGAqwZ-X",
        "outputId": "668c3e2b-2054-4602-fb34-0caa8e692da9"
      },
      "source": [
        "cm= confusion_matrix(y_test, y_pred)  \n",
        "print(cm)\n",
        "clf = SVC(random_state=0)\n",
        "clf.fit(x_train, y_train)\n",
        "SVC(random_state=0)\n",
        "predictions = clf.predict(x_test)\n",
        "cm = confusion_matrix(y_test, predictions, labels=clf.classes_)\n",
        "disp = ConfusionMatrixDisplay(confusion_matrix=cm,\n",
        "                              display_labels=clf.classes_)\n",
        "disp.plot() "
      ],
      "execution_count": 37,
      "outputs": [
        {
          "output_type": "stream",
          "text": [
            "[[1 2]\n",
            " [0 6]]\n"
          ],
          "name": "stdout"
        },
        {
          "output_type": "execute_result",
          "data": {
            "text/plain": [
              "<sklearn.metrics._plot.confusion_matrix.ConfusionMatrixDisplay at 0x7f2f730a5790>"
            ]
          },
          "metadata": {
            "tags": []
          },
          "execution_count": 37
        },
        {
          "output_type": "display_data",
          "data": {
            "image/png": "[encoded data removed]",
            "text/plain": [
              "<Figure size 432x288 with 2 Axes>"
            ]
          },
          "metadata": {
            "tags": [],
            "needs_background": "light"
          }
        }
      ]
    }
  ]
}