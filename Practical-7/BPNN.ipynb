{
  "nbformat": 4,
  "nbformat_minor": 0,
  "metadata": {
    "colab": {
      "name": "BPNN.ipynb",
      "provenance": []
    },
    "kernelspec": {
      "name": "python3",
      "display_name": "Python 3"
    },
    "language_info": {
      "name": "python"
    }
  },
  "cells": [
    {
      "cell_type": "markdown",
      "metadata": {
        "id": "gzvuKO2hoVOB"
      },
      "source": [
        "## **Back-propagation using Neural Network implementation**"
      ]
    },
    {
      "cell_type": "code",
      "metadata": {
        "colab": {
          "base_uri": "https://localhost:8080/"
        },
        "id": "7vgJoi8XoZzk",
        "outputId": "5362e96e-5d49-4961-b560-f5b401811a43"
      },
      "source": [
        "import numpy as np\n",
        "\n",
        "def sigmoid(g):\n",
        "    return 1 / (1 + np.exp(-2 * g))\n",
        "\n",
        "\n",
        "def sigmoid_gradient(g):\n",
        "    return g * (1 - g)\n",
        "\n",
        "\n",
        "def feedForwardProp(input_layer, output_layer, hidden_weights, output_weights, bias):\n",
        "    z2 = np.dot(input_layer, hidden_weights)\n",
        "    a2 = sigmoid(z2)\n",
        "    a2 = a2.T\n",
        "    a2 = np.vstack((a2, bias)).T\n",
        "    z3 = np.dot(a2, output_weights)\n",
        "    a3 = sigmoid(z3)\n",
        "    return a2, a3, hidden_weights, output_weights\n",
        "\n",
        "\n",
        "def backPropogation(input_layer, output_layer, hidden_weights, output_weights, bias, iterations):\n",
        "    for _ in range(iterations):\n",
        "        a2, a3, hidden_weights, output_weights = feedForwardProp(\n",
        "            input_layer, output_layer, hidden_weights, output_weights, bias)\n",
        "\n",
        "        error_a3 = output_layer - a3\n",
        "        error_a2 = np.dot(error_a3, output_weights[0:2, :].T) * \\\n",
        "            sigmoid(np.dot(input_layer, hidden_weights))\n",
        "\n",
        "        delta_a3 = error_a3 * sigmoid_gradient(a3)\n",
        "        delta_a2 = error_a2 * sigmoid_gradient(a2[:, 0:2])\n",
        "\n",
        "        # Update weights\n",
        "        output_weights += np.dot(a2.T, delta_a3)\n",
        "        hidden_weights += np.dot(input_layer.T, delta_a2)\n",
        "\n",
        "    return a3\n",
        "\n",
        "\n",
        "# Data\n",
        "input_layer = np.array([[0, 0, 1], [0, 1, 1], [1, 0, 1], [1, 1, 1]])\n",
        "output_layer = np.array([[0, 1, 1, 0]]).T\n",
        "\n",
        "# Randomly initialising weights\n",
        "np.random.seed(1)\n",
        "hidden_weights = np.random.random((3, 2))\n",
        "output_weights = np.random.random((3, 1))\n",
        "\n",
        "# Number of iterations\n",
        "iterations = 10000\n",
        "\n",
        "# Bias term\n",
        "bias = np.ones((1, 4))\n",
        "\n",
        "print(backPropogation(input_layer, output_layer, hidden_weights, output_weights, bias, iterations))"
      ],
      "execution_count": 8,
      "outputs": [
        {
          "output_type": "stream",
          "text": [
            "[[0.00799726]\n",
            " [0.99314091]\n",
            " [0.99314098]\n",
            " [0.00712188]]\n"
          ],
          "name": "stdout"
        }
      ]
    }
  ]
}