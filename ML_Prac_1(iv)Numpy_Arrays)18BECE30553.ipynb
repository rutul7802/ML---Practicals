{
  "nbformat": 4,
  "nbformat_minor": 0,
  "metadata": {
    "colab": {
      "name": "ML_Prac_1(iv)Numpy-Arrays)18BECE30553.ipynb",
      "provenance": [],
      "collapsed_sections": [],
      "authorship_tag": "ABX9TyOglhqe91ZdORIhSRzQs8I3",
      "include_colab_link": true
    },
    "kernelspec": {
      "name": "python3",
      "display_name": "Python 3"
    }
  },
  "cells": [
    {
      "cell_type": "markdown",
      "metadata": {
        "id": "view-in-github",
        "colab_type": "text"
      },
      "source": [
        "<a href=\"https://colab.research.google.com/github/rutul7802/ML---Practicals/blob/main/ML_Prac_1(iv)Numpy_Arrays)18BECE30553.ipynb\" target=\"_parent\"><img src=\"https://colab.research.google.com/assets/colab-badge.svg\" alt=\"Open In Colab\"/></a>"
      ]
    },
    {
      "cell_type": "markdown",
      "metadata": {
        "id": "LPVajJFZ6IHw"
      },
      "source": [
        "## **1. NUMPY ARRAY**"
      ]
    },
    {
      "cell_type": "code",
      "metadata": {
        "colab": {
          "base_uri": "https://localhost:8080/"
        },
        "id": "ywH7SFur6Ykw",
        "outputId": "5589d999-6178-4882-a4de-30e7e4767f3a"
      },
      "source": [
        "#create numpy ndarray object\n",
        "import numpy as np\n",
        "arr = np.array([1,2,3,4,5,6,7,8])\n",
        "print(arr)\n",
        "print(type(arr))"
      ],
      "execution_count": null,
      "outputs": [
        {
          "output_type": "stream",
          "text": [
            "[1 2 3 4 5 6 7 8]\n",
            "<class 'numpy.ndarray'>\n"
          ],
          "name": "stdout"
        }
      ]
    },
    {
      "cell_type": "code",
      "metadata": {
        "colab": {
          "base_uri": "https://localhost:8080/"
        },
        "id": "9TI4fIn78A_G",
        "outputId": "e40dfb09-5df6-450b-b2be-e02add202126"
      },
      "source": [
        "#Using tuple to create Numpy array\n",
        "import numpy as np\n",
        "arr = ((1,2,3,4,5,6))\n",
        "print(arr)"
      ],
      "execution_count": null,
      "outputs": [
        {
          "output_type": "stream",
          "text": [
            "(1, 2, 3, 4, 5, 6)\n"
          ],
          "name": "stdout"
        }
      ]
    },
    {
      "cell_type": "markdown",
      "metadata": {
        "id": "UvIlzdxN9SJP"
      },
      "source": [
        "## **1.1 Array having no. of different dimensions,Accessing different Elements & Slicing**\n",
        "\n",
        "---\n",
        "\n"
      ]
    },
    {
      "cell_type": "code",
      "metadata": {
        "colab": {
          "base_uri": "https://localhost:8080/"
        },
        "id": "47ueRhmd81eU",
        "outputId": "fa2fccbc-1a48-45ef-89b3-adc6f139e666"
      },
      "source": [
        "#0-D Arrays\n",
        "print(\"******0-D Array*******\")\n",
        "import numpy as np\n",
        "array = np.array(78)\n",
        "print(array)\n",
        "print('\\n')\n",
        "\n",
        "#1-D Arrays\n",
        "print(\"******1-D Array*******\")\n",
        "import numpy as np\n",
        "arr = np.array([20,30,40,56])\n",
        "print(arr)\n",
        "#[Accessing 3rd element]\n",
        "print(\"Accessing 3rd element:\",arr[2])\n",
        "\n",
        "#[Slicing elements(include starting index but exclude end index)]\n",
        "print(\"Slicing elements are:\",arr[1:3])\n",
        "print(\"Slice elements from 2 to end of array:\",arr[2:])\n",
        "print(\"Slice elements from the beginning to index 3 (which is not included):\",arr[:3])\n",
        "#Slicing using step value\n",
        "print(\"Slice the array using step value:\",arr[0:3:2])\n",
        "print(\"Slice the array using step value:\",arr[0:3:1])\n",
        "print(\"Slice the array using step value:\",arr[1:3:2])\n",
        "print(\"Slice the array using step value:\",arr[::2])\n",
        "\n",
        "#[[Negative Slicing]]\n",
        "print(\"Slice from the index 3 from the end to index 1 from the end:\",arr[-3:-1])\n",
        "print('\\n')\n",
        "\n",
        "#2-D Arrays\n",
        "print(\"******2-D Array*******\")\n",
        "import numpy as np\n",
        "arr = np.array([[30,45,67],[47,36,89]])\n",
        "print(arr)\n",
        "print(\"Accesing 3 element from 1st dim:\",arr[0,2])\n",
        "print(\"Accesing 3 element from 2nd dim:\",arr[1,2])\n",
        "#[Slicing in 2-D Array]\n",
        "print(\"From the second element slice the element from index 0 but not index 2\",arr[1,0:2])\n",
        "print(\"From the Both the arrays choose element at index 1 is:\",arr[0:2,1])\n",
        "print(\"From Both the arrays choose element at position index 0 but not at 1 is:\",arr[0:2,0:1])\n",
        "\n",
        "print('\\n')\n",
        "\n",
        "#3-D Arrays\n",
        "print(\"******3-D Array*******\")\n",
        "import numpy as np\n",
        "arr = np.array([[[20,30,40],[28,39,79]],[[56,78,90],[45,56,23]]])\n",
        "print(arr)\n",
        "print(\"*****Checking dimensions********\")\n",
        "print(arr.ndim)\n",
        "print(\"Accesing 3rd element of second array of first array:\",arr[0,1,2])\n",
        "print(\"Accesing 2nd element of first array of third array:\",arr[1,0,1])\n",
        "print(\"Accesing 1st element of second array of third array:\",arr[1,1,0])\n",
        "print('\\n')\n",
        "\n",
        "#Arrays having higher dimensions\n",
        "print(\"******Higher dimensions array*******\")\n",
        "import numpy as np\n",
        "# You can define any no of dimensions using 'ndmin' argument\n",
        "arr = np.array([2,3,4,5,6], ndmin= 5)\n",
        "print(arr)\n",
        "print(\"No of dimensions of array is:\",arr.ndim)\n",
        "print('\\n')\n",
        "\n",
        "#Negative Indexing\n",
        "print(\"**********Negative Indexing***********\")\n",
        "import numpy as np\n",
        "arr = np.array([[1,2,3,4,5],[6,7,8,9,10]] )\n",
        "print(\"Last element of 2nd dimension:\",arr[1,-1])\n",
        "print(\"Last element of 1st dimension:\",arr[0,-3])\n"
      ],
      "execution_count": null,
      "outputs": [
        {
          "output_type": "stream",
          "text": [
            "******0-D Array*******\n",
            "78\n",
            "\n",
            "\n",
            "******1-D Array*******\n",
            "[20 30 40 56]\n",
            "Accessing 3rd element: 40\n",
            "Slicing elements are: [30 40]\n",
            "Slice elements from 2 to end of array: [40 56]\n",
            "Slice elements from the beginning to index 3 (which is not included): [20 30 40]\n",
            "Slice the array using step value: [20 40]\n",
            "Slice the array using step value: [20 30 40]\n",
            "Slice the array using step value: [30]\n",
            "Slice the array using step value: [20 40]\n",
            "Slice from the index 3 from the end to index 1 from the end: [30 40]\n",
            "\n",
            "\n",
            "******2-D Array*******\n",
            "[[30 45 67]\n",
            " [47 36 89]]\n",
            "Accesing 3 element from 1st dim: 67\n",
            "Accesing 3 element from 2nd dim: 89\n",
            "From the second element slice the element from index 0 but not index 2 [47 36]\n",
            "From the Both the arrays choose element at index 1 is: [45 36]\n",
            "From Both the arrays choose element at position index 0 but not at 1 is: [[30]\n",
            " [47]]\n",
            "\n",
            "\n",
            "******3-D Array*******\n",
            "[[[20 30 40]\n",
            "  [28 39 79]]\n",
            "\n",
            " [[56 78 90]\n",
            "  [45 56 23]]]\n",
            "*****Checking dimensions********\n",
            "3\n",
            "Accesing 3rd element of second array of first array: 79\n",
            "Accesing 2nd element of first array of third array: 78\n",
            "Accesing 1st element of second array of third array: 45\n",
            "\n",
            "\n",
            "******Higher dimensions array*******\n",
            "[[[[[2 3 4 5 6]]]]]\n",
            "No of dimensions of array is: 5\n",
            "\n",
            "\n",
            "**********Negative Indexing***********\n",
            "Last element of 2nd dimension: 10\n",
            "Last element of 1st dimension: 3\n"
          ],
          "name": "stdout"
        }
      ]
    },
    {
      "cell_type": "markdown",
      "metadata": {
        "id": "J4WfElqNs0ct"
      },
      "source": [
        "## **1.2 Data Conversion In Numpy Array**"
      ]
    },
    {
      "cell_type": "code",
      "metadata": {
        "colab": {
          "base_uri": "https://localhost:8080/"
        },
        "id": "5lmhW4EEqZYW",
        "outputId": "0496e500-4672-47d1-d550-1c2d37dc8be1"
      },
      "source": [
        "import numpy as np\n",
        "arr = np.array([1.2,1.3,34.9])\n",
        "newarr = arr.astype(int)\n",
        "print(\"Converting Float to Integer:\",newarr)\n",
        "print(newarr.dtype)\n",
        "\n",
        "#Int To Boolean\n",
        "import numpy as np\n",
        "arr = np.array([1,0,9])\n",
        "newarr1 = arr.astype(bool)\n",
        "print(\"Converting Int TO Boolean:\",newarr1)"
      ],
      "execution_count": null,
      "outputs": [
        {
          "output_type": "stream",
          "text": [
            "Converting Float to Integer: [ 1  1 34]\n",
            "int64\n",
            "Converting Int TO Boolean: [ True False  True]\n"
          ],
          "name": "stdout"
        }
      ]
    },
    {
      "cell_type": "markdown",
      "metadata": {
        "id": "A1i9kJukusLP"
      },
      "source": [
        "## **1.3 Copy And View In Numpy Array**"
      ]
    },
    {
      "cell_type": "code",
      "metadata": {
        "colab": {
          "base_uri": "https://localhost:8080/"
        },
        "id": "QawZ4_yuuqYb",
        "outputId": "0281fb3e-69df-4155-81d9-b976bbcbfb3d"
      },
      "source": [
        "#Copy Of an Array\n",
        "import numpy as np\n",
        "arr= np.array([1,2,3,4,5,6,7])\n",
        "x= arr.copy()\n",
        "arr[0]=78\n",
        "print(\"Array after change:\",arr)\n",
        "print(\"Array after copied from array\",x)"
      ],
      "execution_count": null,
      "outputs": [
        {
          "output_type": "stream",
          "text": [
            "Array after change: [78  2  3  4  5  6  7]\n",
            "Array after copied from array [1 2 3 4 5 6 7]\n"
          ],
          "name": "stdout"
        }
      ]
    },
    {
      "cell_type": "code",
      "metadata": {
        "colab": {
          "base_uri": "https://localhost:8080/"
        },
        "id": "wbopWCDxwibr",
        "outputId": "55ebdcea-2056-400d-a790-b7d0c8efe9a7"
      },
      "source": [
        "#View Of an Array\n",
        "import numpy as np\n",
        "arr= np.array([1,2,3,4,5,6,7])\n",
        "x= arr.view()\n",
        "arr[0]=78\n",
        "print(\"View of Array after adding value:\",arr)\n",
        "print(\"View of an array\",x)\n",
        "print(\"\\n\")\n",
        "\n",
        "#View After Change in value of  View\n",
        "import numpy as np\n",
        "arr= np.array([12,23,34,55,67,78,89])\n",
        "x= arr.view()\n",
        "x[0]=7820\n",
        "print(\"View of Array after change value of view:\",arr)\n",
        "print(\"View of an array\",x)\n",
        "print(\"\\n\")\n",
        "\n",
        "#To check whether Array Owns It's Data or not using BASE attribute[As Copies are the new array but Views are just view of original data]\n",
        "import numpy as np\n",
        "arr= np.array([1,2,3,4,5])\n",
        "x= arr.copy()\n",
        "y= arr.view()\n",
        "print(\"As x returns :\",x.base) #It returns none because that array owns data\n",
        "print(\"As y returns\",y.base) #It returns Original array because it doesn't owns data\n"
      ],
      "execution_count": null,
      "outputs": [
        {
          "output_type": "stream",
          "text": [
            "View of Array after adding value: [78  2  3  4  5  6  7]\n",
            "View of an array [78  2  3  4  5  6  7]\n",
            "\n",
            "\n",
            "View of Array after change value of view: [7820   23   34   55   67   78   89]\n",
            "View of an array [7820   23   34   55   67   78   89]\n",
            "\n",
            "\n",
            "As x returns : None\n",
            "As y returns [1 2 3 4 5]\n"
          ],
          "name": "stdout"
        }
      ]
    },
    {
      "cell_type": "markdown",
      "metadata": {
        "id": "6DdorjP_126v"
      },
      "source": [
        "## **1.4 Shape and Reshape of an Array**"
      ]
    },
    {
      "cell_type": "code",
      "metadata": {
        "colab": {
          "base_uri": "https://localhost:8080/"
        },
        "id": "4vmz3ec71woP",
        "outputId": "227844ef-2281-47fa-c8c0-1f51a04a7594"
      },
      "source": [
        "import numpy as np\n",
        "arr = np.array([[1,2,3,4],[5,6,7,8]])\n",
        "print(\"Shape of an array is:\",arr.shape)\n",
        "print(\"\\n\")\n",
        "import numpy as np\n",
        "arr= np.array([1,2,3,4], ndmin=5)\n",
        "print(\"Value of an array is:\",arr)\n",
        "print(\"Shape of another Array:\",arr.shape)\n"
      ],
      "execution_count": null,
      "outputs": [
        {
          "output_type": "stream",
          "text": [
            "Shape of an array is: (2, 4)\n",
            "\n",
            "\n",
            "Value of an array is: [[[[[1 2 3 4]]]]]\n",
            "Shape of another Array: (1, 1, 1, 1, 4)\n"
          ],
          "name": "stdout"
        }
      ]
    },
    {
      "cell_type": "code",
      "metadata": {
        "colab": {
          "base_uri": "https://localhost:8080/"
        },
        "id": "z25mcBCR0WWE",
        "outputId": "3bf01cd3-58ca-4f31-f513-399250f6c337"
      },
      "source": [
        "#Reshape of an array\n",
        "#[1-D to 2-D]\n",
        "import numpy as np\n",
        "arr = np.array([1,2,3,4,5,6])\n",
        "newarr = arr.reshape(3,2)\n",
        "print(\"Changing shape of array from 1-D to 2-D:\",\"\\n\",newarr)\n",
        "print(\"\\n\")\n",
        "\n",
        "#[1-D to 3-D]\n",
        "import numpy as np\n",
        "arr = np.array([1,2,3,4,5,6,7,8,9,10,11,12])\n",
        "newarr = arr.reshape(2,3,2)\n",
        "print(\"Changing shape of 1-D array to 3-D array:\",\"\\n\",newarr)\n",
        "print(\"\\n\")\n",
        "\n",
        "#[To check whether returned array is Copy or View]\n",
        "import numpy as np\n",
        "arr = np.array([1,2,3,4,5,6])\n",
        "print(\"Changing the array shape:\",\"\\n\",arr.reshape(2,3))\n",
        "print(\"The Returned array is:\",arr.reshape(2,3).base,\"so it is View\")#Because it returned original array\n",
        "print(\"\\n\")\n",
        "\n",
        "#[Unknown Dimensions]-Only one dimension is to be allowed to unknown\n",
        "import numpy as np\n",
        "arr = np.array([1,2,3,4,5,6,7,8])\n",
        "newarr = arr.reshape(2,-1,2)\n",
        "print(\"Array changing shape froom 1-D to 3-D:\",\"\\n\",newarr)\n",
        "print(\"\\n\")\n",
        "\n",
        "#[Flattening the array]-Change Multidimentional Array to 1-D array\n",
        "import numpy as np\n",
        "arr = np.array([[1,2,3],[4,5,6]])\n",
        "newarr = arr.reshape(-1)\n",
        "print(\"Flattenning the 2-D array to 1-D array is:\",newarr)"
      ],
      "execution_count": null,
      "outputs": [
        {
          "output_type": "stream",
          "text": [
            "Changing shape of array from 1-D to 2-D: \n",
            " [[1 2]\n",
            " [3 4]\n",
            " [5 6]]\n",
            "\n",
            "\n",
            "Changing shape of 1-D array to 3-D array: \n",
            " [[[ 1  2]\n",
            "  [ 3  4]\n",
            "  [ 5  6]]\n",
            "\n",
            " [[ 7  8]\n",
            "  [ 9 10]\n",
            "  [11 12]]]\n",
            "\n",
            "\n",
            "Changing the array shape: \n",
            " [[1 2 3]\n",
            " [4 5 6]]\n",
            "The Returned array is: [1 2 3 4 5 6] so it is View\n",
            "\n",
            "\n",
            "Array changing shape froom 1-D to 3-D: \n",
            " [[[1 2]\n",
            "  [3 4]]\n",
            "\n",
            " [[5 6]\n",
            "  [7 8]]]\n",
            "\n",
            "\n",
            "Flattenning the 2-D array to 1-D array is: [1 2 3 4 5 6]\n"
          ],
          "name": "stdout"
        }
      ]
    },
    {
      "cell_type": "markdown",
      "metadata": {
        "id": "KafcdxhxDONT"
      },
      "source": [
        "# **1.5 Iterating in Numpy Array**"
      ]
    },
    {
      "cell_type": "code",
      "metadata": {
        "colab": {
          "base_uri": "https://localhost:8080/"
        },
        "id": "tw4v71YKDM3K",
        "outputId": "5e0f623c-2bc4-41f3-cfd7-ece1dd0b8e15"
      },
      "source": [
        "#Iterating means to traversing each element .\n",
        "#[For 1-D Array ]\n",
        "import numpy as np\n",
        "arr = np.array([1,2,3])\n",
        "for x in arr:\n",
        "  print(x)\n",
        "print('\\n')\n",
        "\n",
        "#[For 2-D Array]\n",
        "import numpy as np\n",
        "arr = np.array([[1,2,3],[4,5,6]])\n",
        "for x in arr:\n",
        "  print(x) #[Here we got two row not each element as indivisual]\n",
        "print('\\n')\n",
        "\n",
        "#[[To Iterate on each scalar element of the 2-D array]]\n",
        "import numpy as np\n",
        "arr = np.array([[1,2,3],[4,5,6]])\n",
        "for x in arr:\n",
        "  for y in x:\n",
        "    print(\"To print each element in the array:\",y)\n",
        "print('\\n')\n",
        "\n",
        "#[For 3-D Array]\n",
        "import numpy as np\n",
        "arr = np.array([[[1,2,3],[4,5,6]],[[7,8,9],[10,11,12]]])\n",
        "for x in arr:\n",
        "  print(x)\n",
        "print('\\n')\n",
        "\n",
        "#[[T0 print  3-D Row by Row]]\n",
        "import numpy as np\n",
        "arr = np.array([[[1,2,3],[4,5,6]],[[7,8,9],[10,11,12]]])\n",
        "for x in arr:\n",
        "  for y in x:\n",
        "    print(y)\n",
        "print('\\n')\n",
        "\n",
        "#[[To print each and every single element]]\n",
        "import numpy as np\n",
        "arr = np.array([[[1,2,3],[4,5,6]],[[7,8,9],[10,11,12]]])\n",
        "for x in arr:\n",
        "  for y in x:\n",
        "    for z in y:\n",
        "      print(\"Each element of array is:\")\n",
        "      print(z)\n",
        "print('\\n')\n",
        "    "
      ],
      "execution_count": null,
      "outputs": [
        {
          "output_type": "stream",
          "text": [
            "1\n",
            "2\n",
            "3\n",
            "\n",
            "\n",
            "[1 2 3]\n",
            "[4 5 6]\n",
            "\n",
            "\n",
            "To print each element in the array: 1\n",
            "To print each element in the array: 2\n",
            "To print each element in the array: 3\n",
            "To print each element in the array: 4\n",
            "To print each element in the array: 5\n",
            "To print each element in the array: 6\n",
            "\n",
            "\n",
            "[[1 2 3]\n",
            " [4 5 6]]\n",
            "[[ 7  8  9]\n",
            " [10 11 12]]\n",
            "\n",
            "\n",
            "[1 2 3]\n",
            "[4 5 6]\n",
            "[7 8 9]\n",
            "[10 11 12]\n",
            "\n",
            "\n",
            "Each element of array is:\n",
            "1\n",
            "Each element of array is:\n",
            "2\n",
            "Each element of array is:\n",
            "3\n",
            "Each element of array is:\n",
            "4\n",
            "Each element of array is:\n",
            "5\n",
            "Each element of array is:\n",
            "6\n",
            "Each element of array is:\n",
            "7\n",
            "Each element of array is:\n",
            "8\n",
            "Each element of array is:\n",
            "9\n",
            "Each element of array is:\n",
            "10\n",
            "Each element of array is:\n",
            "11\n",
            "Each element of array is:\n",
            "12\n",
            "\n",
            "\n"
          ],
          "name": "stdout"
        }
      ]
    },
    {
      "cell_type": "code",
      "metadata": {
        "colab": {
          "base_uri": "https://localhost:8080/"
        },
        "id": "II8ca4OCaVO7",
        "outputId": "346c17e7-2091-4c19-b1d6-2f0eef20d8b7"
      },
      "source": [
        "#Iterarting array using nditer(){As by using it we haven't use more for loops}\n",
        "import numpy as np\n",
        "arr = np.array([[1,2,3],[4,5,6]])\n",
        "for x in np.nditer(arr):\n",
        "  print(x)\n",
        "print('\\n')\n",
        "\n",
        "#Let's try it in 3-D array\n",
        "import numpy as np\n",
        "arr = np.array([[[1,2,3],[4,5,6]],[[7,8,9],[10,11,12]]])\n",
        "for x in np.nditer(arr):\n",
        "  print(x)"
      ],
      "execution_count": null,
      "outputs": [
        {
          "output_type": "stream",
          "text": [
            "1\n",
            "2\n",
            "3\n",
            "4\n",
            "5\n",
            "6\n",
            "\n",
            "\n",
            "1\n",
            "2\n",
            "3\n",
            "4\n",
            "5\n",
            "6\n",
            "7\n",
            "8\n",
            "9\n",
            "10\n",
            "11\n",
            "12\n"
          ],
          "name": "stdout"
        }
      ]
    },
    {
      "cell_type": "code",
      "metadata": {
        "colab": {
          "base_uri": "https://localhost:8080/"
        },
        "id": "cDtz9GL5jftN",
        "outputId": "5fa3c925-c80e-4086-cc83-838880121156"
      },
      "source": [
        "#Iterating Array with Different Data Types\n",
        "import numpy as np\n",
        "arr = np.array([1,2,3,4])\n",
        "for x in np.nditer(arr, flags = ['buffered'], op_dtypes=['S']):\n",
        "    print(x)"
      ],
      "execution_count": null,
      "outputs": [
        {
          "output_type": "stream",
          "text": [
            "b'1'\n",
            "b'2'\n",
            "b'3'\n",
            "b'4'\n"
          ],
          "name": "stdout"
        }
      ]
    },
    {
      "cell_type": "code",
      "metadata": {
        "colab": {
          "base_uri": "https://localhost:8080/"
        },
        "id": "kOOj4UhGl9b2",
        "outputId": "831c4fc3-60f4-4539-b8a5-422a6f07099b"
      },
      "source": [
        "#Iterating Array with Different Step size\n",
        "import numpy as np\n",
        "arr = np.array([[1,2,3,4],[5,6,7,8]])\n",
        "for x in np.nditer(arr[:, : :2]):\n",
        "  print(x)"
      ],
      "execution_count": null,
      "outputs": [
        {
          "output_type": "stream",
          "text": [
            "1\n",
            "3\n",
            "5\n",
            "7\n"
          ],
          "name": "stdout"
        }
      ]
    },
    {
      "cell_type": "code",
      "metadata": {
        "colab": {
          "base_uri": "https://localhost:8080/"
        },
        "id": "qBU6pWrpnm7Z",
        "outputId": "dc7697e0-19bc-4b73-ae89-d713607fa626"
      },
      "source": [
        "#Enumerated Iteration using ndenumerated()[Enumeration means mentioning sequence number of somethings one by one.]\n",
        "#For 1-D Array\n",
        "import numpy as np\n",
        "arr = np.array([1,2,3,4])\n",
        "for idr, x in np.ndenumerate(arr):\n",
        "  print(idr ,x)\n",
        "print('\\n') \n",
        "\n",
        "#For 2-D Array\n",
        "import numpy as np\n",
        "arr = np.array([[1,2,3,4],[5,6,7,8]])\n",
        "for i, x  in np.ndenumerate(arr):\n",
        "  print(i, x)"
      ],
      "execution_count": null,
      "outputs": [
        {
          "output_type": "stream",
          "text": [
            "(0,) 1\n",
            "(1,) 2\n",
            "(2,) 3\n",
            "(3,) 4\n",
            "\n",
            "\n",
            "(0, 0) 1\n",
            "(0, 1) 2\n",
            "(0, 2) 3\n",
            "(0, 3) 4\n",
            "(1, 0) 5\n",
            "(1, 1) 6\n",
            "(1, 2) 7\n",
            "(1, 3) 8\n"
          ],
          "name": "stdout"
        }
      ]
    },
    {
      "cell_type": "markdown",
      "metadata": {
        "id": "L7ZhQA4YroDc"
      },
      "source": [
        "## **1.6 Joining Array in Numpy**"
      ]
    },
    {
      "cell_type": "code",
      "metadata": {
        "id": "ONr4iXZErm43",
        "colab": {
          "base_uri": "https://localhost:8080/"
        },
        "outputId": "9089da1a-f2f9-4b47-b659-9fbf3d0a72aa"
      },
      "source": [
        "#Joinning array using Concatenate() fun.\n",
        "import numpy as np\n",
        "arr1 = np.array([1,2,3,4])\n",
        "arr2 = np.array([5,6,7,8])\n",
        "arr = np.concatenate((arr1,arr2))\n",
        "print(arr)\n",
        "print('\\n')\n",
        "\n",
        "#Joinning Two arrays using (axis=1)\n",
        "import numpy as np\n",
        "arr1 = np.array([[1, 2], [3, 4]])\n",
        "arr2 = np.array([[5, 6], [7, 8]])\n",
        "arr = np.concatenate((arr1, arr2), axis=1)\n",
        "print(arr)"
      ],
      "execution_count": null,
      "outputs": [
        {
          "output_type": "stream",
          "text": [
            "[1 2 3 4 5 6 7 8]\n",
            "\n",
            "\n",
            "[[1 2 5 6]\n",
            " [3 4 7 8]]\n"
          ],
          "name": "stdout"
        }
      ]
    },
    {
      "cell_type": "markdown",
      "metadata": {
        "id": "KqP6MXY29w-5"
      },
      "source": [
        "### **1.6.1 Joinning arrays using Stack function.**"
      ]
    },
    {
      "cell_type": "code",
      "metadata": {
        "colab": {
          "base_uri": "https://localhost:8080/"
        },
        "id": "gh18T7Qd81Ep",
        "outputId": "7f043336-e08e-4fc6-a91c-defb228fbc7a"
      },
      "source": [
        "#Stack is as similar as concatenate but the difference is that stacking is done along a new axis.\n",
        "import numpy as np\n",
        "\n",
        "arr1 = np.array([1, 2, 3])\n",
        "\n",
        "arr2 = np.array([4, 5, 6])\n",
        "\n",
        "arr = np.stack((arr1, arr2), axis=1)\n",
        "\n",
        "print(arr)"
      ],
      "execution_count": null,
      "outputs": [
        {
          "output_type": "stream",
          "text": [
            "[[1 4]\n",
            " [2 5]\n",
            " [3 6]]\n"
          ],
          "name": "stdout"
        }
      ]
    },
    {
      "cell_type": "code",
      "metadata": {
        "colab": {
          "base_uri": "https://localhost:8080/"
        },
        "id": "vzSpqEUI-YEn",
        "outputId": "1d1775ba-a730-49f4-fff4-1e44539176ec"
      },
      "source": [
        "#Stacking along Rows(Using hstack() function)\n",
        "import numpy as np\n",
        "\n",
        "arr1 = np.array([1, 2, 3])\n",
        "\n",
        "arr2 = np.array([4, 5, 6])\n",
        "\n",
        "arr = np.hstack((arr1, arr2))\n",
        "\n",
        "print(arr)\n",
        "print('\\n')\n",
        "\n",
        "#Stacking along Colums(Using vstack() function)\n",
        "\n",
        "import numpy as np\n",
        "\n",
        "arr1 = np.array([1, 2, 3])\n",
        "\n",
        "arr2 = np.array([4, 5, 6])\n",
        "\n",
        "arr = np.vstack((arr1, arr2))\n",
        "\n",
        "print(arr)\n",
        "\n",
        "#Stacking along Height(Using dstack() function)\n",
        "import numpy as np\n",
        "\n",
        "arr1 = np.array([1, 2, 3])\n",
        "\n",
        "arr2 = np.array([4, 5, 6])\n",
        "\n",
        "arr = np.dstack((arr1, arr2))\n",
        "\n",
        "print(arr)\n",
        "\n",
        "print('\\n')\n"
      ],
      "execution_count": null,
      "outputs": [
        {
          "output_type": "stream",
          "text": [
            "[1 2 3 4 5 6]\n",
            "\n",
            "\n",
            "[[1 2 3]\n",
            " [4 5 6]]\n",
            "[[[1 4]\n",
            "  [2 5]\n",
            "  [3 6]]]\n",
            "\n",
            "\n"
          ],
          "name": "stdout"
        }
      ]
    }
  ]
}