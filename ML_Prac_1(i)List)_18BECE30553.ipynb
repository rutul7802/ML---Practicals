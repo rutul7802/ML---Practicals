{
  "nbformat": 4,
  "nbformat_minor": 0,
  "metadata": {
    "colab": {
      "name": "ML_Prac-1(i)List)_18BECE30553.ipynb",
      "provenance": [],
      "authorship_tag": "ABX9TyPk1qmAwvi5IGE8ZfPtdEti",
      "include_colab_link": true
    },
    "kernelspec": {
      "name": "python3",
      "display_name": "Python 3"
    }
  },
  "cells": [
    {
      "cell_type": "markdown",
      "metadata": {
        "id": "view-in-github",
        "colab_type": "text"
      },
      "source": [
        "<a href=\"https://colab.research.google.com/github/rutul7802/ML_Prac_1-i-List-_18BECE30553.ipynb/blob/main/ML_Prac_1(i)List)_18BECE30553.ipynb\" target=\"_parent\"><img src=\"https://colab.research.google.com/assets/colab-badge.svg\" alt=\"Open In Colab\"/></a>"
      ]
    },
    {
      "cell_type": "code",
      "metadata": {
        "colab": {
          "base_uri": "https://localhost:8080/"
        },
        "id": "94eKr4WpufOO",
        "outputId": "5eed08aa-a7d2-4aa1-dfa3-ea33b285212a"
      },
      "source": [
        "list1 = ['phy','che','maths','bio',20,30,40,50];\r\n",
        "print(list1[0])\r\n",
        "print(list1[2])\r\n",
        "print(list1[6])\r\n",
        "\r\n",
        "# accessing elements from the list\r\n",
        "print(\"value at index 3 is:\",list1[2])\r\n",
        "\r\n",
        "# updating elementsin the list\r\n",
        "list1[2]= 'coding'\r\n",
        "print(\"value after updating is:\",list1[2])\r\n",
        "\r\n",
        "#delete element in the list\r\n",
        "print(list1)\r\n",
        "del list1[2]\r\n",
        "print(\"list after deleting value\",list1)\r\n",
        "\r\n",
        "#length of element\r\n",
        "print(len(list1))\r\n",
        "\r\n",
        "#append the element in the list\r\n",
        "list1.append(60)\r\n",
        "print(list1)\r\n",
        "\r\n",
        "#append two lists\r\n",
        "list2 = ['for','user']\r\n",
        "list1.append(list2)\r\n",
        "print(list1)\r\n",
        "\r\n",
        "#insert the elements in the list\r\n",
        "list1.insert(0,'comp')\r\n",
        "print(list1)\r\n",
        "\r\n",
        "#extend the elemenets in the list\r\n",
        "list1.extend([60,70,80])\r\n",
        "print(list1)\r\n",
        "\r\n",
        "#accessing elements using negative indexing\r\n",
        "print(list1[-1])\r\n",
        "\r\n",
        "#Removal of elements from the lists\r\n",
        "list1.remove(80)\r\n",
        "print(list1)\r\n",
        "\r\n",
        "#To remove multiple elements from the lists we use for loop\r\n",
        "list3 = [1,2,3,4,5,6,7,8]\r\n",
        "for i in range(1,5):\r\n",
        "    list3.remove(i)\r\n",
        "print(\"After remove multiple element from the list:\",list3)\r\n",
        "\r\n",
        "#To pop the elements from the list\r\n",
        "list3.pop()\r\n",
        "print(\"After poping an element:\",list3)\r\n",
        "list3.pop(2)\r\n",
        "print(\"After poping specific element:\",list3)\r\n",
        "\r\n",
        "#To slice the elements of the list\r\n",
        "\r\n",
        "list4 = ['R','U','T','U','L']\r\n",
        "Sliced_List = list4[2:5]\r\n",
        "print(Sliced_List)\r\n",
        "\r\n",
        "\r\n"
      ],
      "execution_count": 1,
      "outputs": [
        {
          "output_type": "stream",
          "text": [
            "phy\n",
            "maths\n",
            "40\n",
            "value at index 3 is: maths\n",
            "value after updating is: coding\n",
            "['phy', 'che', 'coding', 'bio', 20, 30, 40, 50]\n",
            "list after deleting value ['phy', 'che', 'bio', 20, 30, 40, 50]\n",
            "7\n",
            "['phy', 'che', 'bio', 20, 30, 40, 50, 60]\n",
            "['phy', 'che', 'bio', 20, 30, 40, 50, 60, ['for', 'user']]\n",
            "['comp', 'phy', 'che', 'bio', 20, 30, 40, 50, 60, ['for', 'user']]\n",
            "['comp', 'phy', 'che', 'bio', 20, 30, 40, 50, 60, ['for', 'user'], 60, 70, 80]\n",
            "80\n",
            "['comp', 'phy', 'che', 'bio', 20, 30, 40, 50, 60, ['for', 'user'], 60, 70]\n",
            "After remove multiple element from the list: [5, 6, 7, 8]\n",
            "After poping an element: [5, 6, 7]\n",
            "After poping specific element: [5, 6]\n",
            "['T', 'U', 'L']\n"
          ],
          "name": "stdout"
        }
      ]
    },
    {
      "cell_type": "code",
      "metadata": {
        "id": "VBMCpgsZum3D"
      },
      "source": [
        ""
      ],
      "execution_count": null,
      "outputs": []
    }
  ]
}